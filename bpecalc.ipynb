{
 "cells": [
  {
   "cell_type": "code",
   "execution_count": 1,
   "metadata": {},
   "outputs": [],
   "source": [
    "import numpy as np\n",
    "import matplotlib.pyplot as plt\n",
    "import pydicom"
   ]
  },
  {
   "cell_type": "code",
   "execution_count": 33,
   "metadata": {},
   "outputs": [],
   "source": [
    "def calculate_bpe(pre_contrast_path, post_contrast_path):\n",
    "    \n",
    "    pre_contrast_dicom = pydicom.dcmread(pre_contrast_path)\n",
    "\n",
    "    post_contrast_dicom = pydicom.dcmread(post_contrast_path)\n",
    "\n",
    "    pre_contrast_image = pre_contrast_dicom.pixel_array.astype(np.float32)\n",
    "\n",
    "    post_contrast_image = post_contrast_dicom.pixel_array.astype(np.float32) \n",
    "\n",
    "    pre_contrast_image[pre_contrast_image == 0] = np.finfo(np.float32).eps\n",
    "    \n",
    "    bpe = ((post_contrast_image-pre_contrast_image ) / pre_contrast_image) * 100\n",
    "\n",
    "\n",
    "    return bpe"
   ]
  },
  {
   "cell_type": "code",
   "execution_count": 25,
   "metadata": {},
   "outputs": [],
   "source": [
    "pre_path = 'data/manifest-1722210581008/ISPY2/ISPY2-100899/10-26-2002-100899T0-ISPY2MRIT0-88595/500.000000-ISPY2 AX VIBRANT-SERIES-52523/1-042.dcm'\n",
    "post_path = 'data/manifest-1722210581008/ISPY2/ISPY2-100899/10-26-2002-100899T0-ISPY2MRIT0-88595/501.000000-ISPY2 Ph1AX VIBRANT-SERIES-03969/1-042.dcm'\n"
   ]
  },
  {
   "cell_type": "code",
   "execution_count": 34,
   "metadata": {},
   "outputs": [
    {
     "name": "stdout",
     "output_type": "stream",
     "text": [
      "BPE Percentage: 5961607.0%\n"
     ]
    }
   ],
   "source": [
    "\n",
    "bpe_image = calculate_bpe(pre_path, post_path)\n",
    "\n",
    "# Calculate mean BPE percentage\n",
    "mean_bpe = np.mean(bpe_image)\n",
    "print(f\"BPE Percentage: {mean_bpe}%\")"
   ]
  },
  {
   "cell_type": "code",
   "execution_count": null,
   "metadata": {},
   "outputs": [],
   "source": [
    "\n"
   ]
  }
 ],
 "metadata": {
  "kernelspec": {
   "display_name": "Python 3",
   "language": "python",
   "name": "python3"
  },
  "language_info": {
   "codemirror_mode": {
    "name": "ipython",
    "version": 3
   },
   "file_extension": ".py",
   "mimetype": "text/x-python",
   "name": "python",
   "nbconvert_exporter": "python",
   "pygments_lexer": "ipython3",
   "version": "3.11.4"
  }
 },
 "nbformat": 4,
 "nbformat_minor": 2
}
